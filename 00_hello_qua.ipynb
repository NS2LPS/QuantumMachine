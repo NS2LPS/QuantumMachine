{
 "cells": [
  {
   "cell_type": "code",
   "execution_count": null,
   "id": "4e9b7faf-6f71-4961-8df7-b24944b579be",
   "metadata": {},
   "outputs": [],
   "source": [
    "# Interactive Figure\n",
    "%matplotlib ipympl \n",
    "# Non interactive\n",
    "# %matplotlib inline "
   ]
  },
  {
   "cell_type": "code",
   "execution_count": null,
   "id": "92766f6b-dc8f-42ba-955a-00c1a35a95b3",
   "metadata": {},
   "outputs": [],
   "source": [
    "import time\n",
    "import numpy as np\n",
    "from matplotlib import pyplot as plt\n",
    "from qualang_tools.units import unit\n",
    "u = unit(coerce_to_integer=True)\n",
    "from qm.qua import *\n",
    "from qm import QuantumMachinesManager\n",
    "from qm import SimulationConfig\n",
    "from qualang_tools.results import fetching_tool\n",
    "from qualang_tools.loops import from_array\n",
    "import config_00 as config\n",
    "import warnings\n",
    "warnings.filterwarnings(\"ignore\")"
   ]
  },
  {
   "cell_type": "code",
   "execution_count": null,
   "id": "fd76b327-e583-4bfc-9c75-0942a37fa37b",
   "metadata": {},
   "outputs": [],
   "source": [
    "def addjob(qmprog, qm):\n",
    "    # Add a QUA program to the OPX queue, which compiles it and executes it\n",
    "    job = qm.queue.add(qmprog)\n",
    "    # Wait for job to be loaded\n",
    "    while job.status==\"loading\":\n",
    "        print(\"Job is loading...\")\n",
    "        time.sleep(0.1)\n",
    "    # Wait until job is running\n",
    "    time.sleep(0.1)\n",
    "    while job.status==\"pending\":\n",
    "        q = job.position_in_queue()\n",
    "        if q>0:\n",
    "            print(\"Position in queue\",q,end='\\r')\n",
    "        time.sleep(0.1)\n",
    "    job=job.wait_for_execution()\n",
    "    print(\"\\nJob is running\")\n",
    "    return job"
   ]
  },
  {
   "cell_type": "code",
   "execution_count": null,
   "id": "ad2d5db7-22be-4f42-b360-b1cd5949f37d",
   "metadata": {},
   "outputs": [],
   "source": [
    "# Connect to the cluster (run only once)\n",
    "import QM_cluster\n",
    "qmm = QuantumMachinesManager(host=QM_cluster.QM_Router_IP, cluster_name=QM_cluster.cluster_name)"
   ]
  },
  {
   "cell_type": "markdown",
   "id": "7a9e2a96-cf75-411a-b084-036d39a9ecb3",
   "metadata": {},
   "source": [
    "# Get running QM instance"
   ]
  },
  {
   "cell_type": "code",
   "execution_count": null,
   "id": "c62ed2eb-1997-4ca0-bb06-b81df4579fa4",
   "metadata": {},
   "outputs": [],
   "source": [
    "# Get the QM reference (rerun every time the config is changed)\n",
    "qm_list =  qmm.list_open_qms()\n",
    "qm = qmm.get_qm(qm_list[0])\n",
    "print(f\"Connected to {qm.id}\")"
   ]
  },
  {
   "cell_type": "markdown",
   "id": "6bac2369-8466-4b92-b4f8-6ec7af0cfd84",
   "metadata": {},
   "source": [
    "# Send Pulses and Visualize them"
   ]
  },
  {
   "cell_type": "code",
   "execution_count": null,
   "id": "ca0b62c4-cbf6-4eb1-bb86-f03b98e60824",
   "metadata": {},
   "outputs": [],
   "source": [
    "# This block is using QUA directives which are compiled to the FPGA\n",
    "with program() as prog:\n",
    "    # Variable declaration\n",
    "    adc_stream = declare_stream(adc_trace=True)\n",
    "    # Start measurement\n",
    "    measure('readout', 'scope', adc_stream=adc_stream)\n",
    "    # Pulse sequence\n",
    "    play('pulse','qubit')\n",
    "    wait(24*u.ns)\n",
    "    play('pulse','qubit')\n",
    "\n",
    "    # Select data to be sent to the client \n",
    "    with stream_processing():\n",
    "        adc_stream.input1().save('adc_1')\n",
    "        adc_stream.input2().save('adc_2')"
   ]
  },
  {
   "cell_type": "code",
   "execution_count": null,
   "id": "a6bb7737-0581-4106-9cf1-fce37a2a49cf",
   "metadata": {},
   "outputs": [],
   "source": [
    "# Run the code and fetch results\n",
    "job = addjob(prog, qm)\n",
    "res = fetching_tool(job, ['adc_1','adc_2'])\n",
    "adc_1, adc_2 = res.fetch_all()\n",
    "print('Job done')"
   ]
  },
  {
   "cell_type": "code",
   "execution_count": null,
   "id": "3fd58c50-4f84-4468-83ae-30db7faebe08",
   "metadata": {},
   "outputs": [],
   "source": [
    "# Plot\n",
    "t = np.arange(config.readout_len)\n",
    "fig,ax=plt.subplots()\n",
    "ax.plot(t,adc_1,t,adc_2)"
   ]
  },
  {
   "cell_type": "markdown",
   "id": "aad37b9d-6a1b-45aa-8e1d-637829fc33da",
   "metadata": {},
   "source": [
    "# Simulate the QUA code"
   ]
  },
  {
   "cell_type": "code",
   "execution_count": null,
   "id": "2f510f7c-54c6-4f98-8a13-f5625e62ac37",
   "metadata": {},
   "outputs": [],
   "source": [
    "plt.figure()\n",
    "# Simulates the QUA program for the specified duration\n",
    "simulation_config = SimulationConfig(duration=config.readout_len//4)  # In clock cycles = 4ns\n",
    "# Simulate blocks python until the simulation is done\n",
    "job = qmm.simulate(config.config, prog, simulation_config)\n",
    "# Get the simulated samples\n",
    "samples = job.get_simulated_samples()\n",
    "# Plot the simulated samples\n",
    "samples.con1.plot()"
   ]
  },
  {
   "cell_type": "markdown",
   "id": "c9b670c4-d551-4f7b-8809-10a3168bd756",
   "metadata": {},
   "source": [
    "# Practice\n",
    "- Link to the Quantum Machine documentation [https://docs.quantum-machines.co/latest/](https://docs.quantum-machines.co/latest/)\n",
    "- Read the doc about the [`play`](https://docs.quantum-machines.co/latest/docs/API_references/qua/dsl_main/#for_docs.dsl.play) command\n",
    "\n",
    "## Exercise 1: Understanding IQ phases\n",
    "- Remove the waiting time between the pulses. Are the traces continuous? Why?\n",
    "- Dephase the second pulse by $\\pi/2$ using a [frame_rotation](https://docs.quantum-machines.co/latest/docs/API_references/qua/dsl_main/#for_docs.dsl.frame_rotation) command. Add a delay again between the pulses, observe the phase evolution"
   ]
  },
  {
   "cell_type": "code",
   "execution_count": null,
   "id": "4f3df805-0264-46b9-b185-829ee16cc92f",
   "metadata": {},
   "outputs": [],
   "source": [
    "# This block is using QUA directives which are compiled to the FPGA\n",
    "with program() as prog:\n",
    "    # Variable declaration\n",
    "    adc_stream = declare_stream(adc_trace=True)\n",
    "    # Start measurement\n",
    "    measure('readout', 'scope', adc_stream=adc_stream)\n",
    "    # Pulse sequence\n",
    "    play('pulse','qubit')\n",
    "    wait(24*u.ns)\n",
    "    play('pulse','qubit')\n",
    "\n",
    "    # Select data to be sent to the client \n",
    "    with stream_processing():\n",
    "        adc_stream.input1().save('adc_1')\n",
    "        adc_stream.input2().save('adc_2')\n",
    "\n",
    "# Run the code and fetch results\n",
    "job = addjob(prog, qm)\n",
    "res = fetching_tool(job, ['adc_1','adc_2'])\n",
    "adc_1, adc_2 = res.fetch_all()\n",
    "print('Job done')\n",
    "\n",
    "# Plot\n",
    "t = np.arange(config.readout_len)\n",
    "fig,ax=plt.subplots()\n",
    "ax.plot(t,adc_1,t,adc_2)"
   ]
  },
  {
   "cell_type": "markdown",
   "id": "afc8bc7a-a890-4b32-b24c-bea3d907e476",
   "metadata": {},
   "source": [
    "## Exercise 2: Pulse timing and duration \n",
    "- Change the pulse durations to 100ns using the `duration` keyword in the [`play`](https://docs.quantum-machines.co/latest/docs/API_references/qua/dsl_main/#qm.qua._dsl.play) command\n",
    "- Change the starting time of the first pulse keeping the delay between the two pulses constant (read the doc about [timing](https://docs.quantum-machines.co/latest/docs/Guides/timing_in_qua/))"
   ]
  },
  {
   "cell_type": "code",
   "execution_count": null,
   "id": "daedc556-3c38-48aa-960a-2ac5a391c303",
   "metadata": {},
   "outputs": [],
   "source": [
    "# This block is using QUA directives which are compiled to the FPGA\n",
    "with program() as prog:\n",
    "    # Variable declaration\n",
    "    adc_stream = declare_stream(adc_trace=True)\n",
    "    # Start measurement\n",
    "    measure('readout', 'scope', adc_stream=adc_stream)\n",
    "    # Pulse sequence\n",
    "    play('pulse','qubit',duration=...)\n",
    "    wait(24*u.ns)\n",
    "    play('pulse','qubit')\n",
    "\n",
    "    # Select data to be sent to the client \n",
    "    with stream_processing():\n",
    "        adc_stream.input1().save('adc_1')\n",
    "        adc_stream.input2().save('adc_2')\n",
    "\n",
    "# Run the code and fetch results\n",
    "job = addjob(prog, qm)\n",
    "res = fetching_tool(job, ['adc_1','adc_2'])\n",
    "adc_1, adc_2 = res.fetch_all()\n",
    "print('Job done')\n",
    "\n",
    "# Plot\n",
    "t = np.arange(config.readout_len)\n",
    "fig,ax=plt.subplots()\n",
    "ax.plot(t,adc_1,t,adc_2)"
   ]
  },
  {
   "cell_type": "markdown",
   "id": "b8627202-641f-4eba-a073-4e5708b4dddf",
   "metadata": {},
   "source": [
    " ## Exercise 2: Pulse amplitude\n",
    "- Change the pulse amplitudes using the [amp directive](https://docs.quantum-machines.co/latest/docs/API_references/qua/dsl_main/#for_docs.dsl.amp) "
   ]
  },
  {
   "cell_type": "code",
   "execution_count": null,
   "id": "0a7b072b-2ee9-45c7-bfaf-53137b13ec5d",
   "metadata": {},
   "outputs": [],
   "source": [
    "# This block is using QUA directives which are compiled to the FPGA\n",
    "with program() as prog:\n",
    "    # Variable declaration\n",
    "    adc_stream = declare_stream(adc_trace=True)\n",
    "    # Start measurement\n",
    "    measure('readout', 'scope', adc_stream=adc_stream)\n",
    "    # Pulse sequence\n",
    "    play('pulse'*amp(...),'qubit')\n",
    "    wait(24*u.ns)\n",
    "    play('pulse','qubit')\n",
    "\n",
    "    # Select data to be sent to the client \n",
    "    with stream_processing():\n",
    "        adc_stream.input1().save('adc_1')\n",
    "        adc_stream.input2().save('adc_2')\n",
    "\n",
    "# Run the code and fetch results\n",
    "job = addjob(prog, qm)\n",
    "res = fetching_tool(job, ['adc_1','adc_2'])\n",
    "adc_1, adc_2 = res.fetch_all()\n",
    "print('Job done')\n",
    "\n",
    "# Plot\n",
    "t = np.arange(config.readout_len)\n",
    "fig,ax=plt.subplots()\n",
    "ax.plot(t,adc_1,t,adc_2)"
   ]
  },
  {
   "cell_type": "markdown",
   "id": "146ee4fc-a554-46cd-85b6-3be75eade775",
   "metadata": {},
   "source": [
    "## Exercise 3: Arbitrary (non square) pulses\n",
    "- In the play command, replace the `pulse` by `gaussian` and observe the results. You can have a look at `config_00.py` file to see how arbitrary pulses are built.\n",
    "- Play with the ``amp`` parameter "
   ]
  },
  {
   "cell_type": "code",
   "execution_count": null,
   "id": "add4fc47-2281-43cf-ad28-fd335bd11294",
   "metadata": {},
   "outputs": [],
   "source": [
    "# This block is using QUA directives which are compiled to the FPGA\n",
    "with program() as prog:\n",
    "    # Variable declaration\n",
    "    adc_stream = declare_stream(adc_trace=True)\n",
    "    # Start measurement\n",
    "    measure('readout', 'scope', adc_stream=adc_stream)\n",
    "    # Pulse sequence\n",
    "    play('pulse'*amp(1.0),'qubit')\n",
    "\n",
    "    # Select data to be sent to the client \n",
    "    with stream_processing():\n",
    "        adc_stream.input1().save('adc_1')\n",
    "        adc_stream.input2().save('adc_2')\n",
    "\n",
    "# Run the code and fetch results\n",
    "job = addjob(prog, qm)\n",
    "res = fetching_tool(job, ['adc_1','adc_2'])\n",
    "adc_1, adc_2 = res.fetch_all()\n",
    "print('Job done')\n",
    "\n",
    "# Plot\n",
    "t = np.arange(config.readout_len)\n",
    "fig,ax=plt.subplots()\n",
    "ax.plot(t,adc_1,t,adc_2)"
   ]
  },
  {
   "cell_type": "code",
   "execution_count": null,
   "id": "f81e279a-493c-4eb5-b36b-3e5e7c4b0690",
   "metadata": {},
   "outputs": [],
   "source": []
  }
 ],
 "metadata": {
  "kernelspec": {
   "display_name": "Python 3 (ipykernel)",
   "language": "python",
   "name": "python3"
  },
  "language_info": {
   "codemirror_mode": {
    "name": "ipython",
    "version": 3
   },
   "file_extension": ".py",
   "mimetype": "text/x-python",
   "name": "python",
   "nbconvert_exporter": "python",
   "pygments_lexer": "ipython3",
   "version": "3.12.11"
  }
 },
 "nbformat": 4,
 "nbformat_minor": 5
}
