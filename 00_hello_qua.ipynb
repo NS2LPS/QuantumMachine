{
 "cells": [
  {
   "cell_type": "code",
   "execution_count": null,
   "id": "4e9b7faf-6f71-4961-8df7-b24944b579be",
   "metadata": {},
   "outputs": [],
   "source": [
    "# Interactive Figure\n",
    "%matplotlib ipympl \n",
    "# Non interactive\n",
    "# %matplotlib inline "
   ]
  },
  {
   "cell_type": "code",
   "execution_count": null,
   "id": "92766f6b-dc8f-42ba-955a-00c1a35a95b3",
   "metadata": {},
   "outputs": [],
   "source": [
    "import time\n",
    "import numpy as np\n",
    "from matplotlib import pyplot as plt\n",
    "from qualang_tools.units import unit\n",
    "u = unit(coerce_to_integer=True)\n",
    "from qm.qua import *\n",
    "from qm import QuantumMachinesManager\n",
    "from qm import SimulationConfig\n",
    "from qualang_tools.results import fetching_tool\n",
    "from qualang_tools.loops import from_array\n",
    "import config_00 as config\n",
    "import warnings\n",
    "warnings.filterwarnings(\"ignore\")"
   ]
  },
  {
   "cell_type": "code",
   "execution_count": null,
   "id": "fd76b327-e583-4bfc-9c75-0942a37fa37b",
   "metadata": {},
   "outputs": [],
   "source": [
    "def addjob(qmprog, qm):\n",
    "    # Add a QUA program to the OPX queue, which compiles it and executes it\n",
    "    job = qm.queue.add(qmprog)\n",
    "    # Wait for job to be loaded\n",
    "    while job.status==\"loading\":\n",
    "        print(\"Job is loading...\")\n",
    "        time.sleep(0.1)\n",
    "    # Wait until job is running\n",
    "    time.sleep(0.1)\n",
    "    while job.status==\"pending\":\n",
    "        q = job.position_in_queue()\n",
    "        if q>0:\n",
    "            print(\"Position in queue\",q,end='\\r')\n",
    "        time.sleep(0.1)\n",
    "    job=job.wait_for_execution()\n",
    "    print(\"\\nJob is running\")\n",
    "    return job"
   ]
  },
  {
   "cell_type": "code",
   "execution_count": null,
   "id": "ad2d5db7-22be-4f42-b360-b1cd5949f37d",
   "metadata": {},
   "outputs": [],
   "source": [
    "# Connect to the cluster (run only once)\n",
    "import QM_cluster\n",
    "qmm = QuantumMachinesManager(host=QM_cluster.QM_Router_IP, cluster_name=QM_cluster.cluster_name)"
   ]
  },
  {
   "cell_type": "markdown",
   "id": "7a9e2a96-cf75-411a-b084-036d39a9ecb3",
   "metadata": {},
   "source": [
    "# Get running QM instance"
   ]
  },
  {
   "cell_type": "code",
   "execution_count": null,
   "id": "c62ed2eb-1997-4ca0-bb06-b81df4579fa4",
   "metadata": {},
   "outputs": [],
   "source": [
    "# Get the QM reference (rerun every time the config is changed)\n",
    "qm_list =  qmm.list_open_qms()\n",
    "qm = qmm.get_qm(qm_list[0])\n",
    "print(f\"Connected to {qm.id}\")"
   ]
  },
  {
   "cell_type": "markdown",
   "id": "6bac2369-8466-4b92-b4f8-6ec7af0cfd84",
   "metadata": {},
   "source": [
    "# Send Pulses and Visualize them"
   ]
  },
  {
   "cell_type": "code",
   "execution_count": null,
   "id": "ca0b62c4-cbf6-4eb1-bb86-f03b98e60824",
   "metadata": {},
   "outputs": [],
   "source": [
    "# This block is using QUA directives which are compiled to the FPGA\n",
    "with program() as prog:\n",
    "    # Variable declaration\n",
    "    adc_stream = declare_stream(adc_trace=True)\n",
    "    # Start measurement\n",
    "    measure('readout', 'scope', adc_stream=adc_stream)\n",
    "    # Pulse sequence\n",
    "    play('pulse','qubit')\n",
    "    wait(24*u.ns)\n",
    "    play('pulse','qubit')\n",
    "\n",
    "    # Select data to be sent to the client \n",
    "    with stream_processing():\n",
    "        adc_stream.input1().save('adc_1')\n",
    "        adc_stream.input2().save('adc_2')"
   ]
  },
  {
   "cell_type": "code",
   "execution_count": null,
   "id": "a6bb7737-0581-4106-9cf1-fce37a2a49cf",
   "metadata": {},
   "outputs": [],
   "source": [
    "# Run the code and fetch results\n",
    "job = addjob(prog, qm)\n",
    "res = fetching_tool(job, ['adc_1','adc_2'])\n",
    "adc_1, adc_2 = res.fetch_all()\n",
    "print('Job done')"
   ]
  },
  {
   "cell_type": "code",
   "execution_count": null,
   "id": "3fd58c50-4f84-4468-83ae-30db7faebe08",
   "metadata": {},
   "outputs": [],
   "source": [
    "# Plot\n",
    "t = np.arange(config.readout_len)\n",
    "fig,ax=plt.subplots()\n",
    "ax.plot(t,adc_1,t,adc_2)"
   ]
  },
  {
   "cell_type": "markdown",
   "id": "aad37b9d-6a1b-45aa-8e1d-637829fc33da",
   "metadata": {},
   "source": [
    "# Simulate the QUA code"
   ]
  },
  {
   "cell_type": "code",
   "execution_count": null,
   "id": "2f510f7c-54c6-4f98-8a13-f5625e62ac37",
   "metadata": {},
   "outputs": [],
   "source": [
    "plt.figure()\n",
    "# Simulates the QUA program for the specified duration\n",
    "simulation_config = SimulationConfig(duration=config.readout_len//4)  # In clock cycles = 4ns\n",
    "# Simulate blocks python until the simulation is done\n",
    "job = qmm.simulate(config.config, prog, simulation_config)\n",
    "# Get the simulated samples\n",
    "samples = job.get_simulated_samples()\n",
    "# Plot the simulated samples\n",
    "samples.con1.plot()\n",
    "# Get the waveform report object\n",
    "waveform_report = job.get_simulated_waveform_report()\n",
    "# Cast the waveform report to a python dictionary\n",
    "waveform_dict = waveform_report.to_dict()\n",
    "# Visualize and save the waveform report\n",
    "waveform_report.create_plot(samples, plot=True)"
   ]
  },
  {
   "cell_type": "markdown",
   "id": "146ee4fc-a554-46cd-85b6-3be75eade775",
   "metadata": {},
   "source": [
    "# Practice\n",
    "- Link to the Quantum Machine documentation [https://docs.quantum-machines.co/latest/](https://docs.quantum-machines.co/latest/)\n",
    "- Read the doc about the [`play`](https://docs.quantum-machines.co/latest/docs/API_references/qua/dsl_main/#qm.qua._dsl.play) command\n",
    "\n",
    "## Exercise 1: Phase evolution\n",
    "- Play two pulses one after each other without waiting time. Are the traces continuous? Why?\n",
    "- Dephase the second pulse by $\\pi/2$ using a [frame_rotation](https://docs.quantum-machines.co/latest/docs/API_references/qua/dsl_main/#qm.qua._dsl.frame_rotation) command. Add a delay again between the pulses, observe the phase evolution. \n",
    "- Put back the delay to 0 and instead of using the frame_rotation, depahse the second pulse by $\\pi/2$ using the [amp directive](https://docs.quantum-machines.co/latest/docs/API_references/qua/dsl_main/#qm.qua._dsl.amp) with four parameters \n",
    " \n",
    "## Exercise 2: Pulse timing \n",
    "- Change the pulse duration to 100ns using the `duration` keyword in the [`play`](https://docs.quantum-machines.co/latest/docs/API_references/qua/dsl_main/#qm.qua._dsl.play) command\n",
    "- Read the doc on [timing](https://docs.quantum-machines.co/latest/docs/Guides/timing_in_qua/)\n",
    "- Modify the sequence to create two pulses separated by 500ns and set the measurement window such that only the second pulse is visible and arrives at 250ns\n",
    "\n",
    "## Exercise 3: For loops\n",
    "- Write a loop using [`with for_`](https://docs.quantum-machines.co/latest/docs/Guides/features/#loops) in order to create a train of 5 pulses.\n",
    "\n",
    "## Exercise 4: Arbitrary Pulses\n",
    "- In the play command, replace the `pulse` by `gaussian` and observe the results (remove any duration keyword if present), check the `config_00.py` file to see how arbitrary pulses are built"
   ]
  },
  {
   "cell_type": "code",
   "execution_count": null,
   "id": "e8b1e463-01ad-4ea2-9327-0c3c8ff14897",
   "metadata": {},
   "outputs": [],
   "source": []
  }
 ],
 "metadata": {
  "kernelspec": {
   "display_name": "Python 3 (ipykernel)",
   "language": "python",
   "name": "python3"
  },
  "language_info": {
   "codemirror_mode": {
    "name": "ipython",
    "version": 3
   },
   "file_extension": ".py",
   "mimetype": "text/x-python",
   "name": "python",
   "nbconvert_exporter": "python",
   "pygments_lexer": "ipython3",
   "version": "3.12.10"
  }
 },
 "nbformat": 4,
 "nbformat_minor": 5
}
