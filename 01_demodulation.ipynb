{
 "cells": [
  {
   "cell_type": "code",
   "execution_count": null,
   "id": "4e9b7faf-6f71-4961-8df7-b24944b579be",
   "metadata": {},
   "outputs": [],
   "source": [
    "# Interactive Figure\n",
    "# %matplotlib ipympl \n",
    "# Non interactive\n",
    "%matplotlib inline "
   ]
  },
  {
   "cell_type": "code",
   "execution_count": null,
   "id": "92766f6b-dc8f-42ba-955a-00c1a35a95b3",
   "metadata": {},
   "outputs": [],
   "source": [
    "import time\n",
    "import numpy as np\n",
    "from matplotlib import pyplot as plt\n",
    "from qualang_tools.units import unit\n",
    "u = unit(coerce_to_integer=True)\n",
    "from qm.qua import *\n",
    "from qm import QuantumMachinesManager\n",
    "from qm import SimulationConfig\n",
    "from qualang_tools.results import fetching_tool\n",
    "from qualang_tools.loops import from_array\n",
    "import config_00 as config\n",
    "import warnings\n",
    "warnings.filterwarnings(\"ignore\")"
   ]
  },
  {
   "cell_type": "code",
   "execution_count": null,
   "id": "fd76b327-e583-4bfc-9c75-0942a37fa37b",
   "metadata": {},
   "outputs": [],
   "source": [
    "def addjob(qmprog, qm):\n",
    "    # Add a QUA program to the OPX queue, which compiles it and executes it\n",
    "    job = qm.queue.add(qmprog)\n",
    "    # Wait for job to be loaded\n",
    "    while job.status==\"loading\":\n",
    "        print(\"Job is loading...\")\n",
    "        time.sleep(0.1)\n",
    "    # Wait until job is running\n",
    "    time.sleep(0.1)\n",
    "    while job.status==\"pending\":\n",
    "        q = job.position_in_queue()\n",
    "        if q>0:\n",
    "            print(\"Position in queue\",q,end='\\r')\n",
    "        time.sleep(0.1)\n",
    "    job=job.wait_for_execution()\n",
    "    print(\"\\nJob is running\")\n",
    "    return job"
   ]
  },
  {
   "cell_type": "code",
   "execution_count": null,
   "id": "ad2d5db7-22be-4f42-b360-b1cd5949f37d",
   "metadata": {},
   "outputs": [],
   "source": [
    "# Connect to the cluster (run only once)\n",
    "import QM_cluster\n",
    "qmm = QuantumMachinesManager(host=QM_cluster.QM_Router_IP, cluster_name=QM_cluster.cluster_name)"
   ]
  },
  {
   "cell_type": "markdown",
   "id": "7a9e2a96-cf75-411a-b084-036d39a9ecb3",
   "metadata": {},
   "source": [
    "# Get running QM instance"
   ]
  },
  {
   "cell_type": "code",
   "execution_count": null,
   "id": "c62ed2eb-1997-4ca0-bb06-b81df4579fa4",
   "metadata": {},
   "outputs": [],
   "source": [
    "# Get the QM reference (rerun every time the config is changed)\n",
    "qm_list =  qmm.list_open_qms()\n",
    "qm = qmm.get_qm(qm_list[0])\n",
    "print(f\"Connected to {qm.id}\")"
   ]
  },
  {
   "cell_type": "markdown",
   "id": "6bac2369-8466-4b92-b4f8-6ec7af0cfd84",
   "metadata": {},
   "source": [
    "# Send Pulses and Demodulate them"
   ]
  },
  {
   "cell_type": "code",
   "execution_count": null,
   "id": "54e21ff9-8b2b-4628-9e4f-77dd4b6569f7",
   "metadata": {},
   "outputs": [],
   "source": [
    "# This block is using QUA directives which are compiled to the FPGA\n",
    "chunk_size = 5 # 20ns\n",
    "IQ_size = config.readout_len//(chunk_size*4)\n",
    "with program() as prog:\n",
    "    # Variable declaration\n",
    "    m = declare(int)\n",
    "    I = declare(fixed, size=IQ_size)\n",
    "    Q = declare(fixed, size=IQ_size)\n",
    "    I_st = declare_stream()\n",
    "    Q_st = declare_stream()\n",
    "    # Start measurement\n",
    "    measure(\"readout\", \"scope\",\n",
    "    demod.sliced(\"cos\", I, chunk_size, \"out1\"),\n",
    "    demod.sliced(\"minus_sin\", Q, chunk_size, \"out1\"),\n",
    "            )\n",
    "    # Pulse sequence\n",
    "    play('pulse','qubit',duration=100*u.ns)\n",
    "    wait(200*u.ns)\n",
    "    play('pulse','qubit',duration=100*u.ns)\n",
    "                       \n",
    "    with for_(m, 0, m < IQ_size, m + 1): \n",
    "        save(I[m], I_st)\n",
    "        save(Q[m], Q_st)\n",
    "\n",
    "    # Select data to be sent to the client \n",
    "    with stream_processing():\n",
    "        I_st.buffer(IQ_size).save('I')\n",
    "        Q_st.buffer(IQ_size).save('Q')\n",
    "\n",
    "# Run the code and fetch results\n",
    "job = addjob(prog, qm)\n",
    "res = fetching_tool(job, ['I','Q'])\n",
    "I, Q = res.fetch_all()\n",
    "print('Job done')\n",
    "\n",
    "# Plot\n",
    "t = np.arange(IQ_size)*chunk_size*4\n",
    "fig,ax=plt.subplots()\n",
    "ax.plot(t,I,t,Q)"
   ]
  },
  {
   "cell_type": "markdown",
   "id": "675407af-bc6f-4406-ac90-0cf5209c648f",
   "metadata": {},
   "source": [
    "# Practice\n",
    "- Link to the Quantum Machine documentation [https://docs.quantum-machines.co/latest/](https://docs.quantum-machines.co/latest/)\n",
    "- Read the doc about [demodulation](https://docs.quantum-machines.co/latest/docs/Guides/demod/)\n",
    "\n",
    "## Exercise 1: IQ rotation\n",
    "- Dephase the second pulse by $\\pi/2$ using a [frame_rotation](https://docs.quantum-machines.co/latest/docs/API_references/qua/dsl_main/#qm.qua._dsl.frame_rotation) command. Change the delay between the pulses, what do you observe?\n",
    "- Try different dephasings in order to produce two pulses with negative $I$ values, one pulse with positive $I$ and the second with positive $Q$, and so on...   "
   ]
  },
  {
   "cell_type": "code",
   "execution_count": null,
   "id": "944f89bc-2f5e-438c-9859-aa0ca53aa29f",
   "metadata": {},
   "outputs": [],
   "source": [
    "# This block is using QUA directives which are compiled to the FPGA\n",
    "chunk_size = 5 # 20ns\n",
    "IQ_size = config.readout_len//(chunk_size*4)\n",
    "with program() as prog:\n",
    "    # Variable declaration\n",
    "    m = declare(int)\n",
    "    I = declare(fixed, size=IQ_size)\n",
    "    Q = declare(fixed, size=IQ_size)\n",
    "    I_st = declare_stream()\n",
    "    Q_st = declare_stream()\n",
    "    # Start measurement\n",
    "    measure(\"readout\", \"scope\",\n",
    "    demod.sliced(\"cos\", I, chunk_size, \"out1\"),\n",
    "    demod.sliced(\"minus_sin\", Q, chunk_size, \"out1\"),\n",
    "            )\n",
    "    # Pulse sequence\n",
    "    play('pulse','qubit',duration=100*u.ns)\n",
    "    frame_rotation_2pi(...)\n",
    "    wait(200*u.ns)\n",
    "    play('pulse','qubit',duration=100*u.ns)\n",
    "                       \n",
    "    with for_(m, 0, m < IQ_size, m + 1): \n",
    "        save(I[m], I_st)\n",
    "        save(Q[m], Q_st)\n",
    "\n",
    "    # Select data to be sent to the client \n",
    "    with stream_processing():\n",
    "        I_st.buffer(IQ_size).save('I')\n",
    "        Q_st.buffer(IQ_size).save('Q')\n",
    "\n",
    "# Run the code and fetch results\n",
    "job = addjob(prog, qm)\n",
    "res = fetching_tool(job, ['I','Q'])\n",
    "I, Q = res.fetch_all()\n",
    "print('Job done')\n",
    "\n",
    "# Plot\n",
    "t = np.arange(IQ_size)*chunk_size*4\n",
    "fig,ax=plt.subplots()\n",
    "ax.plot(t,I,t,Q)"
   ]
  },
  {
   "cell_type": "markdown",
   "id": "146ee4fc-a554-46cd-85b6-3be75eade775",
   "metadata": {},
   "source": [
    "## Exercise 2: Averaging \n",
    "- Go back to the previous exercise and reduce the amplitude of the two pulses by a factor 1000 using the `amp` command inside the `play`. Do you still see the pulses?\n",
    "- Averaging small signals is a common problem in circuit QED. Modify the code below to repeat the whole sequence 10000 times in a for loop. In order to average over the loop repetitions, the stream processing block is changed to:\n",
    "  \n",
    "      with stream_processing():\n",
    "        I_st.buffer(IQ_size).average().save('I')\n",
    "        Q_st.buffer(IQ_size).average().save('Q')\n",
    "\n",
    "  (You can read the doc on [stream buffering and averaging](https://docs.quantum-machines.co/latest/docs/Guides/stream_proc/#using-stream-operators))\n",
    "- Replace one pulse by a gaussian pulse (remove the duration keyword) and observe the result "
   ]
  },
  {
   "cell_type": "code",
   "execution_count": null,
   "id": "c50f2198-44ee-4b80-93de-7701ddbb12ba",
   "metadata": {},
   "outputs": [],
   "source": [
    "# This block is using QUA directives which are compiled to the FPGA\n",
    "chunk_size = 5 # 20ns\n",
    "IQ_size = config.readout_len//(chunk_size*4)\n",
    "with program() as prog:\n",
    "    # Variable declaration\n",
    "    m = declare(int)\n",
    "    n = declare(int)\n",
    "    I = declare(fixed, size=IQ_size)\n",
    "    Q = declare(fixed, size=IQ_size)\n",
    "    I_st = declare_stream()\n",
    "    Q_st = declare_stream()\n",
    "    # Repeat measurement\n",
    "    with for_(n, 0, n < 1, n + 1): \n",
    "        measure(\"readout\", \"scope\",\n",
    "        demod.sliced(\"cos\", I, chunk_size, \"out1\"),\n",
    "        demod.sliced(\"minus_sin\", Q, chunk_size, \"out1\"),\n",
    "                )\n",
    "        # Pulse sequence\n",
    "        play('pulse'*amp(0.001),'qubit',duration=100*u.ns)\n",
    "        wait(200*u.ns)\n",
    "        play('pulse'*amp(0.001),'qubit',duration=100*u.ns)\n",
    "                       \n",
    "        with for_(m, 0, m < IQ_size, m + 1): \n",
    "            save(I[m], I_st)\n",
    "            save(Q[m], Q_st)\n",
    "\n",
    "    # Select data to be sent to the client \n",
    "    with stream_processing():\n",
    "        I_st.buffer(IQ_size).average().save('I')\n",
    "        Q_st.buffer(IQ_size).average().save('Q')\n",
    "\n",
    "# Run the code and fetch results\n",
    "job = addjob(prog, qm)\n",
    "res = fetching_tool(job, ['I','Q'])\n",
    "I, Q = res.fetch_all()\n",
    "print('Job done')\n",
    "\n",
    "# Plot\n",
    "t = np.arange(IQ_size)*chunk_size*4\n",
    "fig,ax=plt.subplots()\n",
    "ax.plot(t,I,t,Q)"
   ]
  },
  {
   "cell_type": "code",
   "execution_count": null,
   "id": "08cf4893-8c05-4876-acfd-b8b0583e7847",
   "metadata": {},
   "outputs": [],
   "source": []
  }
 ],
 "metadata": {
  "kernelspec": {
   "display_name": "Python 3 (ipykernel)",
   "language": "python",
   "name": "python3"
  },
  "language_info": {
   "codemirror_mode": {
    "name": "ipython",
    "version": 3
   },
   "file_extension": ".py",
   "mimetype": "text/x-python",
   "name": "python",
   "nbconvert_exporter": "python",
   "pygments_lexer": "ipython3",
   "version": "3.12.11"
  }
 },
 "nbformat": 4,
 "nbformat_minor": 5
}
