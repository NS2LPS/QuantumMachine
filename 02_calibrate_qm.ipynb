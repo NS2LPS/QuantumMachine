{
 "cells": [
  {
   "cell_type": "code",
   "execution_count": 1,
   "id": "01b607e8-ff22-473d-af0d-d6931db89a06",
   "metadata": {},
   "outputs": [
    {
     "name": "stdout",
     "output_type": "stream",
     "text": [
      "2025-05-20 20:41:37,475 - qm - INFO     - Starting session: 47ec4963-9909-41aa-b3bf-47012d9ea4de\n"
     ]
    }
   ],
   "source": [
    "import threading\n",
    "import os\n",
    "import importlib\n",
    "from qm import QuantumMachinesManager\n",
    "from qm.qua import *\n",
    "import time"
   ]
  },
  {
   "cell_type": "code",
   "execution_count": 3,
   "id": "35496601-eb67-4bd9-b44c-516d82ee9dea",
   "metadata": {},
   "outputs": [],
   "source": [
    "# Connect to the cluster\n",
    "import QM_cluster\n",
    "qmm = QuantumMachinesManager(host=QM_cluster.QM_Router_IP, cluster_name=QM_cluster.cluster_name, log_level=\"ERROR\", octave_calibration_db_path=os.getcwd()) "
   ]
  },
  {
   "cell_type": "markdown",
   "id": "f307d20c-0847-4475-bd52-3f537841b3e6",
   "metadata": {},
   "source": [
    "# Open QM"
   ]
  },
  {
   "cell_type": "code",
   "execution_count": 4,
   "id": "27ceefab-796b-4103-9a31-c8155b15d83f",
   "metadata": {},
   "outputs": [
    {
     "name": "stdout",
     "output_type": "stream",
     "text": [
      "QM is ready with id qm-1690847798597\n"
     ]
    }
   ],
   "source": [
    "# Load (or reload) the config to the QM\n",
    "import config_00 as config\n",
    "importlib.reload(config)\n",
    "qm = qmm.open_qm(config.config)\n",
    "print(f'QM is ready with id {qm.id}')"
   ]
  },
  {
   "cell_type": "markdown",
   "id": "4b78b4c0-3230-48c9-8e55-3c09d63ec7d6",
   "metadata": {},
   "source": [
    "# Play with frequencies"
   ]
  },
  {
   "cell_type": "code",
   "execution_count": 22,
   "id": "493e0df7-084b-4b54-98c9-3f0f647762f8",
   "metadata": {},
   "outputs": [],
   "source": [
    "qm.set_intermediate_frequency('qubit',75e6)"
   ]
  },
  {
   "cell_type": "code",
   "execution_count": 24,
   "id": "e1d642c3-1fe0-4f55-9614-2dc32242afe1",
   "metadata": {},
   "outputs": [],
   "source": [
    "qm.octave.set_lo_frequency('qubit',6.1e9)"
   ]
  }
 ],
 "metadata": {
  "kernelspec": {
   "display_name": "Python 3 (ipykernel)",
   "language": "python",
   "name": "python3"
  },
  "language_info": {
   "codemirror_mode": {
    "name": "ipython",
    "version": 3
   },
   "file_extension": ".py",
   "mimetype": "text/x-python",
   "name": "python",
   "nbconvert_exporter": "python",
   "pygments_lexer": "ipython3",
   "version": "3.12.11"
  }
 },
 "nbformat": 4,
 "nbformat_minor": 5
}
