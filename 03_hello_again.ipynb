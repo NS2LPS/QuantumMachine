{
 "cells": [
  {
   "cell_type": "code",
   "execution_count": null,
   "id": "4e9b7faf-6f71-4961-8df7-b24944b579be",
   "metadata": {},
   "outputs": [],
   "source": [
    "# Interactive Figure\n",
    "# %matplotlib ipympl \n",
    "# Non interactive\n",
    "%matplotlib inline "
   ]
  },
  {
   "cell_type": "code",
   "execution_count": null,
   "id": "92766f6b-dc8f-42ba-955a-00c1a35a95b3",
   "metadata": {},
   "outputs": [],
   "source": [
    "import time\n",
    "import numpy as np\n",
    "from matplotlib import pyplot as plt\n",
    "from qualang_tools.units import unit\n",
    "u = unit(coerce_to_integer=True)\n",
    "from qm.qua import *\n",
    "from qm import QuantumMachinesManager\n",
    "from qm import SimulationConfig\n",
    "from qualang_tools.results import fetching_tool\n",
    "from qualang_tools.loops import from_array\n",
    "import config_00 as config\n",
    "import warnings\n",
    "warnings.filterwarnings(\"ignore\")"
   ]
  },
  {
   "cell_type": "code",
   "execution_count": null,
   "id": "fd76b327-e583-4bfc-9c75-0942a37fa37b",
   "metadata": {},
   "outputs": [],
   "source": [
    "def addjob(qmprog, qm):\n",
    "    # Add a QUA program to the OPX queue, which compiles it and executes it\n",
    "    job = qm.queue.add(qmprog)\n",
    "    # Wait for job to be loaded\n",
    "    while job.status==\"loading\":\n",
    "        print(\"Job is loading...\")\n",
    "        time.sleep(0.1)\n",
    "    # Wait until job is running\n",
    "    time.sleep(0.1)\n",
    "    while job.status==\"pending\":\n",
    "        q = job.position_in_queue()\n",
    "        if q>0:\n",
    "            print(\"Position in queue\",q,end='\\r')\n",
    "        time.sleep(0.1)\n",
    "    job=job.wait_for_execution()\n",
    "    print(\"\\nJob is running\")\n",
    "    return job"
   ]
  },
  {
   "cell_type": "code",
   "execution_count": null,
   "id": "9d43a803-50d8-45fb-897a-eed827c4f438",
   "metadata": {},
   "outputs": [],
   "source": [
    "import threading\n",
    "from IPython.display import display\n",
    "import ipywidgets as widgets\n",
    "\n",
    "class JobAborter:\n",
    "    def __init__(self,job,timelimit=10):\n",
    "        self.job=job\n",
    "        self.keeprunning=True\n",
    "        self.progress = widgets.FloatProgress(value=0.0, min=0.0, max=1.0)\n",
    "        self.button = widgets.Button(description='Abort',)\n",
    "        self.start_time = time.time()\n",
    "        self.button.on_click(self.stop)\n",
    "        self.timelimit = timelimit\n",
    "        self.thread = threading.Thread(target=self.update,)\n",
    "        self.thread.start()\n",
    "    def stop(self,b):\n",
    "        self.keeprunning = False\n",
    "    def update(self):\n",
    "        dt = 0\n",
    "        while dt<1 and self.keeprunning and job.status=='running':\n",
    "            dt = (time.time()-self.start_time)/self.timelimit\n",
    "            self.progress.value = dt\n",
    "            time.sleep(0.1)\n",
    "        self.job.halt()\n",
    "        print('Job finished')\n",
    "    def show(self):\n",
    "        display(widgets.HBox([self.button,self.progress,]))"
   ]
  },
  {
   "cell_type": "code",
   "execution_count": null,
   "id": "ad2d5db7-22be-4f42-b360-b1cd5949f37d",
   "metadata": {},
   "outputs": [],
   "source": [
    "# Connect to the cluster (run only once)\n",
    "import QM_cluster\n",
    "qmm = QuantumMachinesManager(host=QM_cluster.QM_Router_IP, cluster_name=QM_cluster.cluster_name)"
   ]
  },
  {
   "cell_type": "markdown",
   "id": "7a9e2a96-cf75-411a-b084-036d39a9ecb3",
   "metadata": {},
   "source": [
    "# Get running QM instance"
   ]
  },
  {
   "cell_type": "code",
   "execution_count": null,
   "id": "c62ed2eb-1997-4ca0-bb06-b81df4579fa4",
   "metadata": {},
   "outputs": [],
   "source": [
    "# Get the QM reference (rerun every time the config is changed)\n",
    "qm_list =  qmm.list_open_qms()\n",
    "qm = qmm.get_qm(qm_list[0])\n",
    "print(f\"Connected to {qm.id}\")"
   ]
  },
  {
   "cell_type": "markdown",
   "id": "6bac2369-8466-4b92-b4f8-6ec7af0cfd84",
   "metadata": {},
   "source": [
    "# Send Pulses and Visualize them"
   ]
  },
  {
   "cell_type": "code",
   "execution_count": null,
   "id": "ca0b62c4-cbf6-4eb1-bb86-f03b98e60824",
   "metadata": {},
   "outputs": [],
   "source": [
    "with program() as prog:\n",
    "    with infinite_loop_():\n",
    "        play('trigger','trigger')\n",
    "        # Pulse sequence\n",
    "        play('pulse','qubit',duration=400*u.ns)\n",
    "        wait(200*u.ns)\n",
    "        play('pulse','qubit',duration=400*u.ns)\n",
    "        wait(10*u.us)"
   ]
  },
  {
   "cell_type": "code",
   "execution_count": null,
   "id": "a6bb7737-0581-4106-9cf1-fce37a2a49cf",
   "metadata": {},
   "outputs": [],
   "source": [
    "# Run the code \n",
    "job = addjob(prog, qm)\n",
    "job_aborter = JobAborter(job)\n",
    "job_aborter.show()"
   ]
  },
  {
   "cell_type": "code",
   "execution_count": null,
   "id": "69177a94-4d74-4a0a-b62c-1eac16a173ed",
   "metadata": {},
   "outputs": [],
   "source": [
    "job.halt()"
   ]
  },
  {
   "cell_type": "markdown",
   "id": "146ee4fc-a554-46cd-85b6-3be75eade775",
   "metadata": {},
   "source": [
    "# Practice\n",
    "- Visit [http://ns2-form-spectre.visiteur.lps.u-psud.fr/web/html/ihp.php](http://ns2-form-spectre.visiteur.lps.u-psud.fr/web/html/ihp.php). Then click on Web Control to see the spectrum analyzer output.\n",
    "\n",
    "## Exercise 1: Gaussian pulse\n",
    "- Change the sequence to play a single square pulse of 200ns and the gaussian pulse every 10µs. Compare the frequency spread on the spectrum analyzer.\n",
    "\n",
    "## Exercise 2: Vary pulse delay in a loop \n",
    "- Change the delay between two square pulses in a loop. Target a total loop duration below 10s. \n",
    "- Check that you get what you want on the spectrum analyzer. \n",
    " \n",
    "## Exercise 3: Vary pulse amplitude in a loop \n",
    "- Change the amplitude of the second pulse in a loop. Target a total loop duration below 10s. \n",
    "- Check that you get what you want on the spectrum analyzer. \n",
    "\n",
    "## Exercise 4: Vary pulse duration\n",
    "- Change the duration of the second pulse in a loop. Target a total loop duration below 10s. \n",
    "- Check that you get what you want on the spectrum analyzer. "
   ]
  },
  {
   "cell_type": "code",
   "execution_count": null,
   "id": "e8b1e463-01ad-4ea2-9327-0c3c8ff14897",
   "metadata": {},
   "outputs": [],
   "source": []
  }
 ],
 "metadata": {
  "kernelspec": {
   "display_name": "Python 3 (ipykernel)",
   "language": "python",
   "name": "python3"
  },
  "language_info": {
   "codemirror_mode": {
    "name": "ipython",
    "version": 3
   },
   "file_extension": ".py",
   "mimetype": "text/x-python",
   "name": "python",
   "nbconvert_exporter": "python",
   "pygments_lexer": "ipython3",
   "version": "3.12.10"
  }
 },
 "nbformat": 4,
 "nbformat_minor": 5
}
