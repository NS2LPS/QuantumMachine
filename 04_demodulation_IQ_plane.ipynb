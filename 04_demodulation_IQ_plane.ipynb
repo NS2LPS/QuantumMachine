{
 "cells": [
  {
   "cell_type": "code",
   "execution_count": null,
   "id": "4e9b7faf-6f71-4961-8df7-b24944b579be",
   "metadata": {
    "editable": true,
    "slideshow": {
     "slide_type": ""
    },
    "tags": []
   },
   "outputs": [],
   "source": [
    "# Interactive Figure\n",
    "# %matplotlib ipympl \n",
    "# Non interactive\n",
    "%matplotlib inline "
   ]
  },
  {
   "cell_type": "code",
   "execution_count": null,
   "id": "92766f6b-dc8f-42ba-955a-00c1a35a95b3",
   "metadata": {
    "editable": true,
    "slideshow": {
     "slide_type": ""
    },
    "tags": []
   },
   "outputs": [],
   "source": [
    "import time\n",
    "import numpy as np\n",
    "from matplotlib import pyplot as plt\n",
    "from qualang_tools.units import unit\n",
    "u = unit(coerce_to_integer=True)\n",
    "from qm.qua import *\n",
    "from qm import QuantumMachinesManager\n",
    "from qm import SimulationConfig\n",
    "from qualang_tools.results import fetching_tool\n",
    "from qualang_tools.loops import from_array\n",
    "import config_00 as config\n",
    "import warnings\n",
    "warnings.filterwarnings(\"ignore\")\n",
    "msg=np.load(\"msg_1007.npz\")\n",
    "msgI=msg[\"x\"]\n",
    "msgQ=msg[\"y\"]"
   ]
  },
  {
   "cell_type": "code",
   "execution_count": null,
   "id": "fd76b327-e583-4bfc-9c75-0942a37fa37b",
   "metadata": {},
   "outputs": [],
   "source": [
    "def addjob(qmprog, qm):\n",
    "    # Add a QUA program to the OPX queue, which compiles it and executes it\n",
    "    job = qm.queue.add(qmprog)\n",
    "    # Wait for job to be loaded\n",
    "    while job.status==\"loading\":\n",
    "        print(\"Job is loading...\")\n",
    "        time.sleep(0.1)\n",
    "    # Wait until job is running\n",
    "    time.sleep(0.1)\n",
    "    while job.status==\"pending\":\n",
    "        q = job.position_in_queue()\n",
    "        if q>0:\n",
    "            print(\"Position in queue\",q,end='\\r')\n",
    "        time.sleep(0.1)\n",
    "    job=job.wait_for_execution()\n",
    "    print(\"\\nJob is running\")\n",
    "    return job"
   ]
  },
  {
   "cell_type": "code",
   "execution_count": null,
   "id": "ad2d5db7-22be-4f42-b360-b1cd5949f37d",
   "metadata": {},
   "outputs": [],
   "source": [
    "# Connect to the cluster (run only once)\n",
    "import QM_cluster\n",
    "qmm = QuantumMachinesManager(host=QM_cluster.QM_Router_IP, cluster_name=QM_cluster.cluster_name)"
   ]
  },
  {
   "cell_type": "markdown",
   "id": "7a9e2a96-cf75-411a-b084-036d39a9ecb3",
   "metadata": {},
   "source": [
    "# Get running QM instance"
   ]
  },
  {
   "cell_type": "code",
   "execution_count": null,
   "id": "c62ed2eb-1997-4ca0-bb06-b81df4579fa4",
   "metadata": {},
   "outputs": [],
   "source": [
    "# Get the QM reference (rerun every time the config is changed)\n",
    "qm_list =  qmm.list_open_qms()\n",
    "qm = qmm.get_qm(qm_list[0])\n",
    "print(f\"Connected to {qm.id}\")"
   ]
  },
  {
   "cell_type": "markdown",
   "id": "6bac2369-8466-4b92-b4f8-6ec7af0cfd84",
   "metadata": {},
   "source": [
    "# Send Pulses and Demodulate them"
   ]
  },
  {
   "cell_type": "code",
   "execution_count": null,
   "id": "d79d8fed-3f68-4157-b100-d019b26f624c",
   "metadata": {},
   "outputs": [],
   "source": [
    "n_points = 2048\n",
    "n_pulses = n_points*config.readout_len//config.pulse_len\n",
    "with program() as prog:\n",
    "    i = declare(int)\n",
    "    n = declare(int)\n",
    "    m = declare(int)\n",
    "    I = declare(fixed)  # QUA variable for the measured 'I' quadrature\n",
    "    Q = declare(fixed)  # QUA variable for the measured 'Q' quadrature\n",
    "    I_st = declare_stream()  # Stream for the 'I' quadrature\n",
    "    Q_st = declare_stream()  # Stream for the 'Q' quadrature\n",
    "    \n",
    "    with for_(i, 0, i < n_pulses, i + 1):\n",
    "        play(\"pulse\", \"qubit\")\n",
    "        frame_rotation(0.25,'qubit')\n",
    "\n",
    "    with for_(n, 0, n < n_points, n + 1):\n",
    "        # Demodulate the signals to get the 'I' & 'Q' quadratures)\n",
    "        measure(\n",
    "            \"readout\",\n",
    "            \"scope\",\n",
    "            dual_demod.full(\"cos\", \"sin\", I),\n",
    "            dual_demod.full(\"minus_sin\", \"cos\", Q),\n",
    "        )\n",
    "        # Save the 'I' & 'Q' quadratures to their respective streams\n",
    "        save(I, I_st)\n",
    "        save(Q, Q_st)\n",
    "\n",
    "    with stream_processing():\n",
    "        # Cast the data into a 1D vector, and store the results on the OPX processor\n",
    "        I_st.buffer(n_points).save(\"I\")\n",
    "        Q_st.buffer(n_points).save(\"Q\")\n"
   ]
  },
  {
   "cell_type": "code",
   "execution_count": null,
   "id": "a6bb7737-0581-4106-9cf1-fce37a2a49cf",
   "metadata": {},
   "outputs": [],
   "source": [
    "# Run the code and fetch results\n",
    "job = addjob(prog, qm)\n",
    "res = fetching_tool(job, ['I','Q'])\n",
    "I, Q = res.fetch_all()\n",
    "print('Job done')"
   ]
  },
  {
   "cell_type": "code",
   "execution_count": null,
   "id": "3fd58c50-4f84-4468-83ae-30db7faebe08",
   "metadata": {},
   "outputs": [],
   "source": [
    "# Plot\n",
    "fig,ax=plt.subplots()\n",
    "ax.plot(I,Q,'.')\n",
    "ax.set_aspect('equal')"
   ]
  },
  {
   "cell_type": "markdown",
   "id": "146ee4fc-a554-46cd-85b6-3be75eade775",
   "metadata": {},
   "source": [
    "# Practice\n",
    "\n",
    "## Exercise 1: IQ rotation\n",
    "- Modify the code to obtain a square\n",
    "- Modify the code to obtain four dots at the four summits of a square\n",
    " \n",
    "## Exercise 2: Secret message decoding\n",
    "- Change the emission loop to:\n",
    "\n",
    "        Im = declare(fixed,value=msgI)\n",
    "        Qm = declare(fixed,value=msgQ)    \n",
    "    \n",
    "        with for_(i, 0, i < 4, i + 1):\n",
    "            with for_(m, 0, m < len(msgI), m + 1):  \n",
    "                play(\"pulse\" * amp(Im[m],0.,Qm[m],0.),\"qubit\")\n",
    "\n",
    "- Adjust the parameters to decode the message\n",
    "\n",
    "## Exercise 3: Message encoding\n",
    "- Encode the logo from Alice and Bob and send it in the same way as the previous message"
   ]
  },
  {
   "cell_type": "code",
   "execution_count": null,
   "id": "08cf4893-8c05-4876-acfd-b8b0583e7847",
   "metadata": {},
   "outputs": [],
   "source": []
  }
 ],
 "metadata": {
  "kernelspec": {
   "display_name": "Python 3 (ipykernel)",
   "language": "python",
   "name": "python3"
  },
  "language_info": {
   "codemirror_mode": {
    "name": "ipython",
    "version": 3
   },
   "file_extension": ".py",
   "mimetype": "text/x-python",
   "name": "python",
   "nbconvert_exporter": "python",
   "pygments_lexer": "ipython3",
   "version": "3.12.10"
  }
 },
 "nbformat": 4,
 "nbformat_minor": 5
}
