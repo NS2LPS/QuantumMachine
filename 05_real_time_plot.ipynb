{
 "cells": [
  {
   "cell_type": "code",
   "execution_count": null,
   "id": "4e9b7faf-6f71-4961-8df7-b24944b579be",
   "metadata": {},
   "outputs": [],
   "source": [
    "# Interactive Figure\n",
    "%matplotlib ipympl \n",
    "# Non interactive\n",
    "# %matplotlib inline "
   ]
  },
  {
   "cell_type": "code",
   "execution_count": null,
   "id": "92766f6b-dc8f-42ba-955a-00c1a35a95b3",
   "metadata": {},
   "outputs": [],
   "source": [
    "import time\n",
    "import numpy as np\n",
    "from matplotlib import pyplot as plt\n",
    "from qualang_tools.units import unit\n",
    "u = unit(coerce_to_integer=True)\n",
    "from qm.qua import *\n",
    "from qm import QuantumMachinesManager\n",
    "from qm import SimulationConfig\n",
    "from qualang_tools.results import fetching_tool\n",
    "from qualang_tools.loops import from_array\n",
    "import config_00 as config\n",
    "import warnings\n",
    "warnings.filterwarnings(\"ignore\")\n",
    "msg=np.load(\"msg_1007.npz\")\n",
    "msgI=msg[\"x\"]\n",
    "msgQ=msg[\"y\"]"
   ]
  },
  {
   "cell_type": "code",
   "execution_count": null,
   "id": "2df10222-b0fe-4d2a-8352-e773d1cb8dfc",
   "metadata": {},
   "outputs": [],
   "source": [
    "def addjob(qmprog, qm):\n",
    "    # Add a QUA program to the OPX queue, which compiles it and executes it\n",
    "    job = qm.queue.add(qmprog)\n",
    "    # Wait for job to be loaded\n",
    "    while job.status==\"loading\":\n",
    "        print(\"Job is loading...\")\n",
    "        time.sleep(0.1)\n",
    "    # Wait until job is running\n",
    "    time.sleep(0.1)\n",
    "    while job.status==\"pending\":\n",
    "        q = job.position_in_queue()\n",
    "        if q>0:\n",
    "            print(\"Position in queue\",q,end='\\r')\n",
    "        time.sleep(0.1)\n",
    "    job=job.wait_for_execution()\n",
    "    print(\"\\nJob is running\")\n",
    "    return job"
   ]
  },
  {
   "cell_type": "code",
   "execution_count": null,
   "id": "ce0b6376-a7db-4a0c-a28b-463829367b7b",
   "metadata": {},
   "outputs": [],
   "source": [
    "import threading\n",
    "from IPython.display import display\n",
    "import ipywidgets as widgets\n",
    "\n",
    "class ProgressPlot:\n",
    "    def __init__(self, job, timelimit=20):\n",
    "        self.progress = widgets.FloatProgress(value=0.0, min=0.0, max=1.0)\n",
    "        self.button = widgets.Button(description='Abort',)\n",
    "        self.button.on_click(self.stop)\n",
    "        self.keeprunning = True\n",
    "        self.timelimit = timelimit\n",
    "        self.job = job\n",
    "        with plt.ioff():\n",
    "            self.fig = plt.figure()\n",
    "        self.initplot()\n",
    "        self.start_time = time.time()\n",
    "        self.thread = threading.Thread(target=self.update,)\n",
    "        self.thread.start()\n",
    "    def stop(self,b):\n",
    "        self.keeprunning = False\n",
    "    def initplot(self):\n",
    "        pass\n",
    "    def replot(self):\n",
    "        pass\n",
    "    def update(self):\n",
    "        dt = 0\n",
    "        while dt<1 and self.keeprunning and job.status=='running':\n",
    "            dt = (time.time()-self.start_time)/self.timelimit\n",
    "            self.progress.value = dt\n",
    "            self.replot()\n",
    "            self.fig.canvas.draw_idle()\n",
    "            time.sleep(0.1)\n",
    "        self.job.halt()\n",
    "        print('Job finished')\n",
    "    def show(self):\n",
    "        display(self.fig.canvas,widgets.HBox([self.button,self.progress]))"
   ]
  },
  {
   "cell_type": "code",
   "execution_count": null,
   "id": "ad2d5db7-22be-4f42-b360-b1cd5949f37d",
   "metadata": {},
   "outputs": [],
   "source": [
    "# Connect to the cluster (run only once)\n",
    "import QM_cluster\n",
    "qmm = QuantumMachinesManager(host=QM_cluster.QM_Router_IP, cluster_name=QM_cluster.cluster_name)"
   ]
  },
  {
   "cell_type": "markdown",
   "id": "7a9e2a96-cf75-411a-b084-036d39a9ecb3",
   "metadata": {},
   "source": [
    "# Get running QM instance"
   ]
  },
  {
   "cell_type": "code",
   "execution_count": null,
   "id": "c62ed2eb-1997-4ca0-bb06-b81df4579fa4",
   "metadata": {},
   "outputs": [],
   "source": [
    "# Get the QM reference (rerun every time the config is changed)\n",
    "qm_list =  qmm.list_open_qms()\n",
    "qm = qmm.get_qm(qm_list[0])\n",
    "print(f\"Connected to {qm.id}\")"
   ]
  },
  {
   "cell_type": "markdown",
   "id": "6bac2369-8466-4b92-b4f8-6ec7af0cfd84",
   "metadata": {},
   "source": [
    "# Send Pulses and Demodulate them"
   ]
  },
  {
   "cell_type": "code",
   "execution_count": null,
   "id": "d79d8fed-3f68-4157-b100-d019b26f624c",
   "metadata": {
    "editable": true,
    "slideshow": {
     "slide_type": ""
    },
    "tags": []
   },
   "outputs": [],
   "source": [
    "n_points = len(msgI)*2\n",
    "with program() as prog:\n",
    "    i = declare(int)\n",
    "    n = declare(int)\n",
    "    m = declare(int)\n",
    "    I = declare(fixed)  # QUA variable for the measured 'I' quadrature\n",
    "    Q = declare(fixed)  # QUA variable for the measured 'Q' quadrature\n",
    "    I_st = declare_stream()  # Stream for the 'I' quadrature\n",
    "    Q_st = declare_stream()  # Stream for the 'Q' quadrature\n",
    "    Im = declare(fixed,value=msgI)\n",
    "    Qm = declare(fixed,value=msgQ)    \n",
    "   \n",
    "    with infinite_loop_():\n",
    "        with for_(m, 0, m < len(msgI), m + 1):  \n",
    "            play(\"pulse\" * amp(Im[m],0.,Qm[m],0.),\"qubit\",duration=2*800*u.ns)\n",
    "\n",
    "    with infinite_loop_():\n",
    "        # Demodulate the signals to get the 'I' & 'Q' quadratures)\n",
    "        measure(\n",
    "            \"readout\",\n",
    "            \"scope\",\n",
    "            dual_demod.full(\"cos\", \"sin\", I),\n",
    "            dual_demod.full(\"minus_sin\", \"cos\", Q),\n",
    "        )\n",
    "        # Save the 'I' & 'Q' quadratures to their respective streams\n",
    "        save(I, I_st)\n",
    "        save(Q, Q_st)\n",
    "\n",
    "    with stream_processing():\n",
    "        # Cast the data into a 1D vector, and store the results on the OPX processor\n",
    "        I_st.buffer(n_points).save(\"I\")\n",
    "        Q_st.buffer(n_points).save(\"Q\")\n"
   ]
  },
  {
   "cell_type": "code",
   "execution_count": null,
   "id": "3907a40d-7b8d-4420-b86e-e56d69208dae",
   "metadata": {},
   "outputs": [],
   "source": [
    "class myProgressPlot(ProgressPlot):\n",
    "    mag = 20\n",
    "    def initplot(self):\n",
    "        self.ax = self.fig.subplots()\n",
    "        self.ax.set_aspect('equal')\n",
    "        self.ax.set_xlim(-1,1)\n",
    "        self.ax.set_ylim(-1,1)\n",
    "        self.line, = self.ax.plot(np.zeros(n_points),np.zeros(n_points),',')\n",
    "    def replot(self):\n",
    "        I,Q = res.fetch_all()\n",
    "        self.line.set_data(I*self.mag,Q*self.mag)"
   ]
  },
  {
   "cell_type": "code",
   "execution_count": null,
   "id": "a6bb7737-0581-4106-9cf1-fce37a2a49cf",
   "metadata": {
    "editable": true,
    "slideshow": {
     "slide_type": ""
    },
    "tags": []
   },
   "outputs": [],
   "source": [
    "# Run the code and fetch results\n",
    "job = addjob(prog, qm)\n",
    "res = fetching_tool(job, ['I','Q'],mode='live')\n",
    "pp = myProgressPlot(job)\n",
    "pp.show()"
   ]
  },
  {
   "cell_type": "code",
   "execution_count": null,
   "id": "b0709e93-3f19-42f9-9e7a-49ac692189c9",
   "metadata": {},
   "outputs": [],
   "source": [
    "pp.mag=20"
   ]
  },
  {
   "cell_type": "markdown",
   "id": "146ee4fc-a554-46cd-85b6-3be75eade775",
   "metadata": {
    "editable": true,
    "slideshow": {
     "slide_type": ""
    },
    "tags": []
   },
   "source": [
    "# Practice\n",
    "\n",
    "## Exercise 1: Sliders\n",
    "- Add a slider to rotate the message in real time\n",
    "- Add a slider to zoom in and out the plot\n",
    "(Read the doc at [https://ipywidgets.readthedocs.io/en/latest/examples/Widget%20Basics.html](https://ipywidgets.readthedocs.io/en/latest/examples/Widget%20Basics.html))"
   ]
  },
  {
   "cell_type": "code",
   "execution_count": null,
   "id": "08cf4893-8c05-4876-acfd-b8b0583e7847",
   "metadata": {},
   "outputs": [],
   "source": []
  }
 ],
 "metadata": {
  "kernelspec": {
   "display_name": "Python 3 (ipykernel)",
   "language": "python",
   "name": "python3"
  },
  "language_info": {
   "codemirror_mode": {
    "name": "ipython",
    "version": 3
   },
   "file_extension": ".py",
   "mimetype": "text/x-python",
   "name": "python",
   "nbconvert_exporter": "python",
   "pygments_lexer": "ipython3",
   "version": "3.12.10"
  }
 },
 "nbformat": 4,
 "nbformat_minor": 5
}
