{
 "cells": [
  {
   "cell_type": "markdown",
   "id": "3e9b4be0-5da9-4ea9-a0d5-7136c69bf26f",
   "metadata": {},
   "source": [
    "# Quantum Machine Notebooks\n",
    "- [First steps](00_hello_qua.ipynb)\n",
    "- [IQ Demodulation](01_demodulation.ipynb)\n",
    "- [Mixer calibration](02_calibrate_qm.ipynb)\n",
    "- [Pulse modifiers](03_hello_again.ipynb)\n",
    "- [Play in the IQ plane](04_demodulation_IQ_plane.ipynb)"
   ]
  },
  {
   "cell_type": "code",
   "execution_count": null,
   "id": "45540ad0-f3f7-40df-9118-21b44f8366c4",
   "metadata": {},
   "outputs": [],
   "source": []
  }
 ],
 "metadata": {
  "kernelspec": {
   "display_name": "Python 3 (ipykernel)",
   "language": "python",
   "name": "python3"
  },
  "language_info": {
   "codemirror_mode": {
    "name": "ipython",
    "version": 3
   },
   "file_extension": ".py",
   "mimetype": "text/x-python",
   "name": "python",
   "nbconvert_exporter": "python",
   "pygments_lexer": "ipython3",
   "version": "3.12.11"
  }
 },
 "nbformat": 4,
 "nbformat_minor": 5
}
